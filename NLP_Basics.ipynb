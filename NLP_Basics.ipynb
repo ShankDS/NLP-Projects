{
  "nbformat": 4,
  "nbformat_minor": 0,
  "metadata": {
    "colab": {
      "name": "NLP Basics.ipynb",
      "provenance": []
    },
    "kernelspec": {
      "name": "python3",
      "display_name": "Python 3"
    },
    "language_info": {
      "name": "python"
    }
  },
  "cells": [
    {
      "cell_type": "code",
      "execution_count": null,
      "metadata": {
        "colab": {
          "base_uri": "https://localhost:8080/"
        },
        "id": "nEB12NVEjS8L",
        "outputId": "d1bb8a5e-dd77-4178-c1f8-7902f140e5f3"
      },
      "outputs": [
        {
          "output_type": "stream",
          "name": "stdout",
          "text": [
            "[nltk_data] Downloading package punkt to /root/nltk_data...\n",
            "[nltk_data]   Unzipping tokenizers/punkt.zip.\n",
            "[nltk_data] Downloading package wordnet to /root/nltk_data...\n",
            "[nltk_data]   Unzipping corpora/wordnet.zip.\n",
            "[nltk_data] Downloading package stopwords to /root/nltk_data...\n",
            "[nltk_data]   Unzipping corpora/stopwords.zip.\n",
            "[nltk_data] Downloading package averaged_perceptron_tagger to\n",
            "[nltk_data]     /root/nltk_data...\n",
            "[nltk_data]   Unzipping taggers/averaged_perceptron_tagger.zip.\n"
          ]
        },
        {
          "output_type": "execute_result",
          "data": {
            "text/plain": [
              "True"
            ]
          },
          "metadata": {},
          "execution_count": 1
        }
      ],
      "source": [
        "import nltk\n",
        "nltk.download(\"punkt\")\n",
        "nltk.download(\"wordnet\")\n",
        "nltk.download(\"stopwords\")\n",
        "nltk.download(\"averaged_perceptron_tagger\")"
      ]
    },
    {
      "cell_type": "markdown",
      "source": [
        "SENTENCE TOKENIZATION"
      ],
      "metadata": {
        "id": "GsNG_nUxlAKi"
      }
    },
    {
      "cell_type": "code",
      "source": [
        "text='The return of Robinson after a back spasm during the warm-up game would strengthen a seam attack that only managed to take seven wickets in Antigua - three of them by Ben Stokes, the allrounder who was reportedly set to have a managed workload but ended up bowling 41 overs in the match. The absence of Wood will, however, leave England without an out-and-out quick, although the uncapped Saqib Mahmood is capable of touching 90mph.'\n",
        "sentences=nltk.sent_tokenize(text)\n",
        "for sentence in sentences:\n",
        "  print(sentence)\n",
        "  print()"
      ],
      "metadata": {
        "colab": {
          "base_uri": "https://localhost:8080/"
        },
        "id": "0wq2J8dVj8St",
        "outputId": "b1df3ac0-eff7-42f7-efcc-dbcba284d24f"
      },
      "execution_count": null,
      "outputs": [
        {
          "output_type": "stream",
          "name": "stdout",
          "text": [
            "The return of Robinson after a back spasm during the warm-up game would strengthen a seam attack that only managed to take seven wickets in Antigua - three of them by Ben Stokes, the allrounder who was reportedly set to have a managed workload but ended up bowling 41 overs in the match.\n",
            "\n",
            "The absence of Wood will, however, leave England without an out-and-out quick, although the uncapped Saqib Mahmood is capable of touching 90mph.\n",
            "\n"
          ]
        }
      ]
    },
    {
      "cell_type": "markdown",
      "source": [
        "Word Tokenization"
      ],
      "metadata": {
        "id": "v3MkyLrplFMq"
      }
    },
    {
      "cell_type": "code",
      "source": [
        "for sentence in sentences:\n",
        "  words=nltk.word_tokenize(sentence)\n",
        "  print(words)\n",
        "  print()"
      ],
      "metadata": {
        "colab": {
          "base_uri": "https://localhost:8080/"
        },
        "id": "XBGaN-0hlGbS",
        "outputId": "7ea4700c-c982-405e-90a3-0ae2b7ed8c86"
      },
      "execution_count": null,
      "outputs": [
        {
          "output_type": "stream",
          "name": "stdout",
          "text": [
            "['The', 'return', 'of', 'Robinson', 'after', 'a', 'back', 'spasm', 'during', 'the', 'warm-up', 'game', 'would', 'strengthen', 'a', 'seam', 'attack', 'that', 'only', 'managed', 'to', 'take', 'seven', 'wickets', 'in', 'Antigua', '-', 'three', 'of', 'them', 'by', 'Ben', 'Stokes', ',', 'the', 'allrounder', 'who', 'was', 'reportedly', 'set', 'to', 'have', 'a', 'managed', 'workload', 'but', 'ended', 'up', 'bowling', '41', 'overs', 'in', 'the', 'match', '.']\n",
            "\n",
            "['The', 'absence', 'of', 'Wood', 'will', ',', 'however', ',', 'leave', 'England', 'without', 'an', 'out-and-out', 'quick', ',', 'although', 'the', 'uncapped', 'Saqib', 'Mahmood', 'is', 'capable', 'of', 'touching', '90mph', '.']\n",
            "\n"
          ]
        }
      ]
    },
    {
      "cell_type": "markdown",
      "source": [
        ""
      ],
      "metadata": {
        "id": "he5pkpFSlzw5"
      }
    },
    {
      "cell_type": "markdown",
      "source": [
        "Stemming and Lemmatization\n",
        "Stems - chops off the ends of words playing -> play softly -> soft saw\n",
        "\n",
        "Lemmatization - Rule based approach where it will have a vocabulary using which\n",
        "\n",
        "Playing -> play played -> play saw -> saw"
      ],
      "metadata": {
        "id": "lybT1XwTl45_"
      }
    },
    {
      "cell_type": "code",
      "source": [
        "from nltk.stem import PorterStemmer,WordNetLemmatizer\n",
        "from nltk.corpus import wordnet\n",
        "def compare_stemmer_and_lemmatizer(stemmer, lemmatizer, word, pos):\n",
        "    \"\"\"\n",
        "    Print the results of stemmind and lemmitization using the passed stemmer, lemmatizer, word and pos (part of speech)\n",
        "    \"\"\"\n",
        "    print(\"Stemmer:\", stemmer.stem(word))\n",
        "    print(\"Lemmatizer:\", lemmatizer.lemmatize(word, pos))\n",
        "    print()\n",
        "\n",
        "lemmatizer = WordNetLemmatizer()\n",
        "stemmer = PorterStemmer()\n",
        "compare_stemmer_and_lemmatizer(stemmer, lemmatizer, word = \"seen\", pos = wordnet.VERB)\n",
        "compare_stemmer_and_lemmatizer(stemmer, lemmatizer, word = \"drove\", pos = wordnet.VERB)\n",
        "compare_stemmer_and_lemmatizer(stemmer, lemmatizer, word = \"better\", pos = wordnet.ADJ)\n",
        "compare_stemmer_and_lemmatizer(stemmer, lemmatizer, word = \"improvised\", pos = wordnet.VERB)\n",
        "compare_stemmer_and_lemmatizer(stemmer, lemmatizer, word = \"Amaze\", pos = wordnet.ADJ)"
      ],
      "metadata": {
        "colab": {
          "base_uri": "https://localhost:8080/"
        },
        "id": "IxToOIbQl7dS",
        "outputId": "3af17226-9e25-4dba-853c-799da384f253"
      },
      "execution_count": null,
      "outputs": [
        {
          "output_type": "stream",
          "name": "stdout",
          "text": [
            "Stemmer: seen\n",
            "Lemmatizer: see\n",
            "\n",
            "Stemmer: drove\n",
            "Lemmatizer: drive\n",
            "\n",
            "Stemmer: better\n",
            "Lemmatizer: good\n",
            "\n",
            "Stemmer: improvis\n",
            "Lemmatizer: improvise\n",
            "\n",
            "Stemmer: amaz\n",
            "Lemmatizer: Amaze\n",
            "\n"
          ]
        }
      ]
    },
    {
      "cell_type": "markdown",
      "source": [
        "Stop Words"
      ],
      "metadata": {
        "id": "nMY6H-zCna81"
      }
    },
    {
      "cell_type": "code",
      "source": [
        "from nltk.corpus import stopwords\n",
        "stop_words = set(stopwords.words(\"english\"))\n",
        "print(stop_words)"
      ],
      "metadata": {
        "colab": {
          "base_uri": "https://localhost:8080/"
        },
        "id": "Fg7s1hF-naHq",
        "outputId": "4db84ee9-aa44-460b-8d90-64dce141f247"
      },
      "execution_count": null,
      "outputs": [
        {
          "output_type": "stream",
          "name": "stdout",
          "text": [
            "{'you', 'whom', \"haven't\", 'i', 'most', 'herself', 'no', 'nor', 'very', \"didn't\", \"won't\", 'having', 've', 'then', 'she', 'below', 'now', \"wasn't\", 'some', 'hers', \"you'll\", 'have', 'both', 'itself', 'should', 'mightn', 'other', 'once', 'about', 'd', 'does', 'with', 'can', \"needn't\", 'at', 'being', 'which', 'same', 'me', 'hadn', \"hadn't\", 'yourselves', 'as', 'to', 'under', 'such', 'the', 'won', 'they', \"you'd\", \"you're\", 'will', 'couldn', 'after', 'if', 'because', 'where', 'hasn', \"isn't\", 'this', 'any', 'those', 'our', 'shan', 'so', 'aren', 'been', \"hasn't\", 'we', 'has', 'during', 'it', 'until', 'not', 'll', 'yourself', 'an', 'am', 'y', 'himself', 'but', 'wasn', 'and', 'him', 'just', 'be', 'for', 'didn', 'than', 'haven', 'over', 'when', 'how', 'their', 'a', 'against', \"don't\", 'ours', 'my', \"mustn't\", \"shan't\", 'each', 'wouldn', 'between', 'up', 'through', 'here', 'off', 'down', \"you've\", 'of', 'was', 'too', \"couldn't\", \"mightn't\", 'were', 'doing', 'again', 'own', 'all', 't', 'did', 'or', 'out', 'he', 'm', \"it's\", 'doesn', 'further', 'is', 'few', 's', \"should've\", 'more', 'from', 'theirs', 're', 'ma', 'had', \"shouldn't\", 'do', 'his', 'them', 'o', 'who', 'by', 'above', 'myself', 'isn', 'in', 'its', 'into', \"aren't\", 'yours', 'your', 'while', 'on', \"doesn't\", 'that', 'weren', 'are', 'only', 'these', \"that'll\", 'there', 'needn', 'don', 'shouldn', \"weren't\", \"she's\", 'her', 'why', 'before', 'what', 'mustn', \"wouldn't\", 'ain', 'ourselves', 'themselves'}\n"
          ]
        }
      ]
    },
    {
      "cell_type": "code",
      "source": [
        "words = nltk.word_tokenize(sentence)\n",
        "without_stop_words = [word for word in words if not word in stop_words]\n",
        "print(without_stop_words)"
      ],
      "metadata": {
        "colab": {
          "base_uri": "https://localhost:8080/"
        },
        "id": "5BRDwcx2n7Re",
        "outputId": "a4481e88-a1d8-4799-8671-9c174a95ecdc"
      },
      "execution_count": null,
      "outputs": [
        {
          "output_type": "stream",
          "name": "stdout",
          "text": [
            "['The', 'absence', 'Wood', ',', 'however', ',', 'leave', 'England', 'without', 'out-and-out', 'quick', ',', 'although', 'uncapped', 'Saqib', 'Mahmood', 'capable', 'touching', '90mph', '.']\n"
          ]
        }
      ]
    },
    {
      "cell_type": "code",
      "source": [
        "# This is an alternate way to word tokenize - advantage : it will remove the punctuation marks\n",
        "\n",
        "from nltk.tokenize import RegexpTokenizer\n",
        "\n",
        "tokenizer = RegexpTokenizer('\\w+') \n",
        "# \\w -> word character[A-Za-z0-9_]\n",
        "# \\w+ -> whenever u see a word character, keep continuing\n",
        "tokenizer.tokenize(sentence)"
      ],
      "metadata": {
        "colab": {
          "base_uri": "https://localhost:8080/"
        },
        "id": "HlgsFnqdoMwj",
        "outputId": "a47b8233-00aa-4c44-b7f3-241d0063439a"
      },
      "execution_count": null,
      "outputs": [
        {
          "output_type": "execute_result",
          "data": {
            "text/plain": [
              "['The',\n",
              " 'absence',\n",
              " 'of',\n",
              " 'Wood',\n",
              " 'will',\n",
              " 'however',\n",
              " 'leave',\n",
              " 'England',\n",
              " 'without',\n",
              " 'an',\n",
              " 'out',\n",
              " 'and',\n",
              " 'out',\n",
              " 'quick',\n",
              " 'although',\n",
              " 'the',\n",
              " 'uncapped',\n",
              " 'Saqib',\n",
              " 'Mahmood',\n",
              " 'is',\n",
              " 'capable',\n",
              " 'of',\n",
              " 'touching',\n",
              " '90mph']"
            ]
          },
          "metadata": {},
          "execution_count": 9
        }
      ]
    },
    {
      "cell_type": "markdown",
      "source": [
        "Part of Speech Tagging"
      ],
      "metadata": {
        "id": "Xl4ERXHBoXvf"
      }
    },
    {
      "cell_type": "code",
      "source": [
        "words = nltk.word_tokenize(sentence) #tokenizes the sentence into words\n",
        "tagged = nltk.tag.pos_tag(words)  # nlt.tag.pos_tag(list_of_words)\n",
        "print(tagged)"
      ],
      "metadata": {
        "colab": {
          "base_uri": "https://localhost:8080/"
        },
        "id": "gF709EqtoTsh",
        "outputId": "dbaff70e-9cdf-4970-87b2-289aaf2b3817"
      },
      "execution_count": null,
      "outputs": [
        {
          "output_type": "stream",
          "name": "stdout",
          "text": [
            "[('The', 'DT'), ('absence', 'NN'), ('of', 'IN'), ('Wood', 'NNP'), ('will', 'MD'), (',', ','), ('however', 'RB'), (',', ','), ('leave', 'VBP'), ('England', 'NNP'), ('without', 'IN'), ('an', 'DT'), ('out-and-out', 'JJ'), ('quick', 'NN'), (',', ','), ('although', 'IN'), ('the', 'DT'), ('uncapped', 'JJ'), ('Saqib', 'NNP'), ('Mahmood', 'NNP'), ('is', 'VBZ'), ('capable', 'JJ'), ('of', 'IN'), ('touching', 'VBG'), ('90mph', 'CD'), ('.', '.')]\n"
          ]
        }
      ]
    },
    {
      "cell_type": "markdown",
      "source": [
        "Bag of Words"
      ],
      "metadata": {
        "id": "GkIpH1eNoutb"
      }
    },
    {
      "cell_type": "code",
      "source": [
        "documents = ['good movie. good screenplay', 'good movie', 'bad movie. sleep']"
      ],
      "metadata": {
        "id": "FhTFzWoeomId"
      },
      "execution_count": null,
      "outputs": []
    },
    {
      "cell_type": "code",
      "source": [
        " #Import the libraries we need\n",
        "from sklearn.feature_extraction.text import CountVectorizer\n",
        "import pandas as pd\n",
        "\n",
        "# Step 2. Design the Vocabulary\n",
        "# The default token pattern removes tokens of a single character. That's why we don't have the \"I\" and \"s\" tokens in the output\n",
        "count_vectorizer = CountVectorizer(binary = False, stop_words = 'english',lowercase = True) \n",
        "\n",
        "# Step 3. Create the Bag-of-Words Model\n",
        "bag_of_words = count_vectorizer.fit_transform(documents) # fit - design the vocbulary and transform will convert the text into numbers based on the presence of the word\n",
        "\n",
        "# Show the Bag-of-Words Model as a pandas DataFrame\n",
        "feature_names = count_vectorizer.get_feature_names()\n",
        "pd.DataFrame(bag_of_words.toarray(), columns = feature_names)"
      ],
      "metadata": {
        "colab": {
          "base_uri": "https://localhost:8080/",
          "height": 198
        },
        "id": "U69AzKYTpGRT",
        "outputId": "a04eb417-a549-4d23-fc50-55bfaa51a7fe"
      },
      "execution_count": null,
      "outputs": [
        {
          "output_type": "stream",
          "name": "stderr",
          "text": [
            "/usr/local/lib/python3.7/dist-packages/sklearn/utils/deprecation.py:87: FutureWarning: Function get_feature_names is deprecated; get_feature_names is deprecated in 1.0 and will be removed in 1.2. Please use get_feature_names_out instead.\n",
            "  warnings.warn(msg, category=FutureWarning)\n"
          ]
        },
        {
          "output_type": "execute_result",
          "data": {
            "text/plain": [
              "   bad  good  movie  screenplay  sleep\n",
              "0    0     2      1           1      0\n",
              "1    0     1      1           0      0\n",
              "2    1     0      1           0      1"
            ],
            "text/html": [
              "\n",
              "  <div id=\"df-e994e15e-c311-4162-825b-647311880380\">\n",
              "    <div class=\"colab-df-container\">\n",
              "      <div>\n",
              "<style scoped>\n",
              "    .dataframe tbody tr th:only-of-type {\n",
              "        vertical-align: middle;\n",
              "    }\n",
              "\n",
              "    .dataframe tbody tr th {\n",
              "        vertical-align: top;\n",
              "    }\n",
              "\n",
              "    .dataframe thead th {\n",
              "        text-align: right;\n",
              "    }\n",
              "</style>\n",
              "<table border=\"1\" class=\"dataframe\">\n",
              "  <thead>\n",
              "    <tr style=\"text-align: right;\">\n",
              "      <th></th>\n",
              "      <th>bad</th>\n",
              "      <th>good</th>\n",
              "      <th>movie</th>\n",
              "      <th>screenplay</th>\n",
              "      <th>sleep</th>\n",
              "    </tr>\n",
              "  </thead>\n",
              "  <tbody>\n",
              "    <tr>\n",
              "      <th>0</th>\n",
              "      <td>0</td>\n",
              "      <td>2</td>\n",
              "      <td>1</td>\n",
              "      <td>1</td>\n",
              "      <td>0</td>\n",
              "    </tr>\n",
              "    <tr>\n",
              "      <th>1</th>\n",
              "      <td>0</td>\n",
              "      <td>1</td>\n",
              "      <td>1</td>\n",
              "      <td>0</td>\n",
              "      <td>0</td>\n",
              "    </tr>\n",
              "    <tr>\n",
              "      <th>2</th>\n",
              "      <td>1</td>\n",
              "      <td>0</td>\n",
              "      <td>1</td>\n",
              "      <td>0</td>\n",
              "      <td>1</td>\n",
              "    </tr>\n",
              "  </tbody>\n",
              "</table>\n",
              "</div>\n",
              "      <button class=\"colab-df-convert\" onclick=\"convertToInteractive('df-e994e15e-c311-4162-825b-647311880380')\"\n",
              "              title=\"Convert this dataframe to an interactive table.\"\n",
              "              style=\"display:none;\">\n",
              "        \n",
              "  <svg xmlns=\"http://www.w3.org/2000/svg\" height=\"24px\"viewBox=\"0 0 24 24\"\n",
              "       width=\"24px\">\n",
              "    <path d=\"M0 0h24v24H0V0z\" fill=\"none\"/>\n",
              "    <path d=\"M18.56 5.44l.94 2.06.94-2.06 2.06-.94-2.06-.94-.94-2.06-.94 2.06-2.06.94zm-11 1L8.5 8.5l.94-2.06 2.06-.94-2.06-.94L8.5 2.5l-.94 2.06-2.06.94zm10 10l.94 2.06.94-2.06 2.06-.94-2.06-.94-.94-2.06-.94 2.06-2.06.94z\"/><path d=\"M17.41 7.96l-1.37-1.37c-.4-.4-.92-.59-1.43-.59-.52 0-1.04.2-1.43.59L10.3 9.45l-7.72 7.72c-.78.78-.78 2.05 0 2.83L4 21.41c.39.39.9.59 1.41.59.51 0 1.02-.2 1.41-.59l7.78-7.78 2.81-2.81c.8-.78.8-2.07 0-2.86zM5.41 20L4 18.59l7.72-7.72 1.47 1.35L5.41 20z\"/>\n",
              "  </svg>\n",
              "      </button>\n",
              "      \n",
              "  <style>\n",
              "    .colab-df-container {\n",
              "      display:flex;\n",
              "      flex-wrap:wrap;\n",
              "      gap: 12px;\n",
              "    }\n",
              "\n",
              "    .colab-df-convert {\n",
              "      background-color: #E8F0FE;\n",
              "      border: none;\n",
              "      border-radius: 50%;\n",
              "      cursor: pointer;\n",
              "      display: none;\n",
              "      fill: #1967D2;\n",
              "      height: 32px;\n",
              "      padding: 0 0 0 0;\n",
              "      width: 32px;\n",
              "    }\n",
              "\n",
              "    .colab-df-convert:hover {\n",
              "      background-color: #E2EBFA;\n",
              "      box-shadow: 0px 1px 2px rgba(60, 64, 67, 0.3), 0px 1px 3px 1px rgba(60, 64, 67, 0.15);\n",
              "      fill: #174EA6;\n",
              "    }\n",
              "\n",
              "    [theme=dark] .colab-df-convert {\n",
              "      background-color: #3B4455;\n",
              "      fill: #D2E3FC;\n",
              "    }\n",
              "\n",
              "    [theme=dark] .colab-df-convert:hover {\n",
              "      background-color: #434B5C;\n",
              "      box-shadow: 0px 1px 3px 1px rgba(0, 0, 0, 0.15);\n",
              "      filter: drop-shadow(0px 1px 2px rgba(0, 0, 0, 0.3));\n",
              "      fill: #FFFFFF;\n",
              "    }\n",
              "  </style>\n",
              "\n",
              "      <script>\n",
              "        const buttonEl =\n",
              "          document.querySelector('#df-e994e15e-c311-4162-825b-647311880380 button.colab-df-convert');\n",
              "        buttonEl.style.display =\n",
              "          google.colab.kernel.accessAllowed ? 'block' : 'none';\n",
              "\n",
              "        async function convertToInteractive(key) {\n",
              "          const element = document.querySelector('#df-e994e15e-c311-4162-825b-647311880380');\n",
              "          const dataTable =\n",
              "            await google.colab.kernel.invokeFunction('convertToInteractive',\n",
              "                                                     [key], {});\n",
              "          if (!dataTable) return;\n",
              "\n",
              "          const docLinkHtml = 'Like what you see? Visit the ' +\n",
              "            '<a target=\"_blank\" href=https://colab.research.google.com/notebooks/data_table.ipynb>data table notebook</a>'\n",
              "            + ' to learn more about interactive tables.';\n",
              "          element.innerHTML = '';\n",
              "          dataTable['output_type'] = 'display_data';\n",
              "          await google.colab.output.renderOutput(dataTable, element);\n",
              "          const docLink = document.createElement('div');\n",
              "          docLink.innerHTML = docLinkHtml;\n",
              "          element.appendChild(docLink);\n",
              "        }\n",
              "      </script>\n",
              "    </div>\n",
              "  </div>\n",
              "  "
            ]
          },
          "metadata": {},
          "execution_count": 12
        }
      ]
    },
    {
      "cell_type": "markdown",
      "source": [
        "n - gram Approach"
      ],
      "metadata": {
        "id": "qWmYT3_XpQV_"
      }
    },
    {
      "cell_type": "code",
      "source": [
        "from sklearn.feature_extraction.text import CountVectorizer\n",
        "import pandas as pd\n",
        "\n",
        "# Step 2. Design the Vocabulary\n",
        "# The default token pattern removes tokens of a single character. That's why we don't have the \"I\" and \"s\" tokens in the output\n",
        "count_vectorizer = CountVectorizer(ngram_range = (1,3), binary=False, stop_words = 'english',lowercase = True) \n",
        "\n",
        "# Step 3. Create the Bag-of-Words Model\n",
        "bag_of_words = count_vectorizer.fit_transform(documents) # fit - design the vocbulary and transform will convert the text into numbers based on the presence of the word\n",
        "\n",
        "# Show the Bag-of-Words Model as a pandas DataFrame\n",
        "feature_names = count_vectorizer.get_feature_names()\n",
        "pd.DataFrame(bag_of_words.toarray(), columns = feature_names)"
      ],
      "metadata": {
        "colab": {
          "base_uri": "https://localhost:8080/",
          "height": 198
        },
        "id": "RXyo9NjDpRSy",
        "outputId": "c3559aa5-5f11-4661-9994-3ab72d5d9f60"
      },
      "execution_count": null,
      "outputs": [
        {
          "output_type": "stream",
          "name": "stderr",
          "text": [
            "/usr/local/lib/python3.7/dist-packages/sklearn/utils/deprecation.py:87: FutureWarning: Function get_feature_names is deprecated; get_feature_names is deprecated in 1.0 and will be removed in 1.2. Please use get_feature_names_out instead.\n",
            "  warnings.warn(msg, category=FutureWarning)\n"
          ]
        },
        {
          "output_type": "execute_result",
          "data": {
            "text/plain": [
              "   bad  bad movie  bad movie sleep  good  good movie  good movie good  \\\n",
              "0    0          0                0     2           1                1   \n",
              "1    0          0                0     1           1                0   \n",
              "2    1          1                1     0           0                0   \n",
              "\n",
              "   good screenplay  movie  movie good  movie good screenplay  movie sleep  \\\n",
              "0                1      1           1                      1            0   \n",
              "1                0      1           0                      0            0   \n",
              "2                0      1           0                      0            1   \n",
              "\n",
              "   screenplay  sleep  \n",
              "0           1      0  \n",
              "1           0      0  \n",
              "2           0      1  "
            ],
            "text/html": [
              "\n",
              "  <div id=\"df-71f78da0-b66a-4ed0-aa59-30aa0efd0f14\">\n",
              "    <div class=\"colab-df-container\">\n",
              "      <div>\n",
              "<style scoped>\n",
              "    .dataframe tbody tr th:only-of-type {\n",
              "        vertical-align: middle;\n",
              "    }\n",
              "\n",
              "    .dataframe tbody tr th {\n",
              "        vertical-align: top;\n",
              "    }\n",
              "\n",
              "    .dataframe thead th {\n",
              "        text-align: right;\n",
              "    }\n",
              "</style>\n",
              "<table border=\"1\" class=\"dataframe\">\n",
              "  <thead>\n",
              "    <tr style=\"text-align: right;\">\n",
              "      <th></th>\n",
              "      <th>bad</th>\n",
              "      <th>bad movie</th>\n",
              "      <th>bad movie sleep</th>\n",
              "      <th>good</th>\n",
              "      <th>good movie</th>\n",
              "      <th>good movie good</th>\n",
              "      <th>good screenplay</th>\n",
              "      <th>movie</th>\n",
              "      <th>movie good</th>\n",
              "      <th>movie good screenplay</th>\n",
              "      <th>movie sleep</th>\n",
              "      <th>screenplay</th>\n",
              "      <th>sleep</th>\n",
              "    </tr>\n",
              "  </thead>\n",
              "  <tbody>\n",
              "    <tr>\n",
              "      <th>0</th>\n",
              "      <td>0</td>\n",
              "      <td>0</td>\n",
              "      <td>0</td>\n",
              "      <td>2</td>\n",
              "      <td>1</td>\n",
              "      <td>1</td>\n",
              "      <td>1</td>\n",
              "      <td>1</td>\n",
              "      <td>1</td>\n",
              "      <td>1</td>\n",
              "      <td>0</td>\n",
              "      <td>1</td>\n",
              "      <td>0</td>\n",
              "    </tr>\n",
              "    <tr>\n",
              "      <th>1</th>\n",
              "      <td>0</td>\n",
              "      <td>0</td>\n",
              "      <td>0</td>\n",
              "      <td>1</td>\n",
              "      <td>1</td>\n",
              "      <td>0</td>\n",
              "      <td>0</td>\n",
              "      <td>1</td>\n",
              "      <td>0</td>\n",
              "      <td>0</td>\n",
              "      <td>0</td>\n",
              "      <td>0</td>\n",
              "      <td>0</td>\n",
              "    </tr>\n",
              "    <tr>\n",
              "      <th>2</th>\n",
              "      <td>1</td>\n",
              "      <td>1</td>\n",
              "      <td>1</td>\n",
              "      <td>0</td>\n",
              "      <td>0</td>\n",
              "      <td>0</td>\n",
              "      <td>0</td>\n",
              "      <td>1</td>\n",
              "      <td>0</td>\n",
              "      <td>0</td>\n",
              "      <td>1</td>\n",
              "      <td>0</td>\n",
              "      <td>1</td>\n",
              "    </tr>\n",
              "  </tbody>\n",
              "</table>\n",
              "</div>\n",
              "      <button class=\"colab-df-convert\" onclick=\"convertToInteractive('df-71f78da0-b66a-4ed0-aa59-30aa0efd0f14')\"\n",
              "              title=\"Convert this dataframe to an interactive table.\"\n",
              "              style=\"display:none;\">\n",
              "        \n",
              "  <svg xmlns=\"http://www.w3.org/2000/svg\" height=\"24px\"viewBox=\"0 0 24 24\"\n",
              "       width=\"24px\">\n",
              "    <path d=\"M0 0h24v24H0V0z\" fill=\"none\"/>\n",
              "    <path d=\"M18.56 5.44l.94 2.06.94-2.06 2.06-.94-2.06-.94-.94-2.06-.94 2.06-2.06.94zm-11 1L8.5 8.5l.94-2.06 2.06-.94-2.06-.94L8.5 2.5l-.94 2.06-2.06.94zm10 10l.94 2.06.94-2.06 2.06-.94-2.06-.94-.94-2.06-.94 2.06-2.06.94z\"/><path d=\"M17.41 7.96l-1.37-1.37c-.4-.4-.92-.59-1.43-.59-.52 0-1.04.2-1.43.59L10.3 9.45l-7.72 7.72c-.78.78-.78 2.05 0 2.83L4 21.41c.39.39.9.59 1.41.59.51 0 1.02-.2 1.41-.59l7.78-7.78 2.81-2.81c.8-.78.8-2.07 0-2.86zM5.41 20L4 18.59l7.72-7.72 1.47 1.35L5.41 20z\"/>\n",
              "  </svg>\n",
              "      </button>\n",
              "      \n",
              "  <style>\n",
              "    .colab-df-container {\n",
              "      display:flex;\n",
              "      flex-wrap:wrap;\n",
              "      gap: 12px;\n",
              "    }\n",
              "\n",
              "    .colab-df-convert {\n",
              "      background-color: #E8F0FE;\n",
              "      border: none;\n",
              "      border-radius: 50%;\n",
              "      cursor: pointer;\n",
              "      display: none;\n",
              "      fill: #1967D2;\n",
              "      height: 32px;\n",
              "      padding: 0 0 0 0;\n",
              "      width: 32px;\n",
              "    }\n",
              "\n",
              "    .colab-df-convert:hover {\n",
              "      background-color: #E2EBFA;\n",
              "      box-shadow: 0px 1px 2px rgba(60, 64, 67, 0.3), 0px 1px 3px 1px rgba(60, 64, 67, 0.15);\n",
              "      fill: #174EA6;\n",
              "    }\n",
              "\n",
              "    [theme=dark] .colab-df-convert {\n",
              "      background-color: #3B4455;\n",
              "      fill: #D2E3FC;\n",
              "    }\n",
              "\n",
              "    [theme=dark] .colab-df-convert:hover {\n",
              "      background-color: #434B5C;\n",
              "      box-shadow: 0px 1px 3px 1px rgba(0, 0, 0, 0.15);\n",
              "      filter: drop-shadow(0px 1px 2px rgba(0, 0, 0, 0.3));\n",
              "      fill: #FFFFFF;\n",
              "    }\n",
              "  </style>\n",
              "\n",
              "      <script>\n",
              "        const buttonEl =\n",
              "          document.querySelector('#df-71f78da0-b66a-4ed0-aa59-30aa0efd0f14 button.colab-df-convert');\n",
              "        buttonEl.style.display =\n",
              "          google.colab.kernel.accessAllowed ? 'block' : 'none';\n",
              "\n",
              "        async function convertToInteractive(key) {\n",
              "          const element = document.querySelector('#df-71f78da0-b66a-4ed0-aa59-30aa0efd0f14');\n",
              "          const dataTable =\n",
              "            await google.colab.kernel.invokeFunction('convertToInteractive',\n",
              "                                                     [key], {});\n",
              "          if (!dataTable) return;\n",
              "\n",
              "          const docLinkHtml = 'Like what you see? Visit the ' +\n",
              "            '<a target=\"_blank\" href=https://colab.research.google.com/notebooks/data_table.ipynb>data table notebook</a>'\n",
              "            + ' to learn more about interactive tables.';\n",
              "          element.innerHTML = '';\n",
              "          dataTable['output_type'] = 'display_data';\n",
              "          await google.colab.output.renderOutput(dataTable, element);\n",
              "          const docLink = document.createElement('div');\n",
              "          docLink.innerHTML = docLinkHtml;\n",
              "          element.appendChild(docLink);\n",
              "        }\n",
              "      </script>\n",
              "    </div>\n",
              "  </div>\n",
              "  "
            ]
          },
          "metadata": {},
          "execution_count": 13
        }
      ]
    },
    {
      "cell_type": "markdown",
      "source": [
        "TF-IDF"
      ],
      "metadata": {
        "id": "RZmYRx4hpXI_"
      }
    },
    {
      "cell_type": "code",
      "source": [
        "documents = [\"I like this movie, it's funny.\",\"I hate this movie.\",\"This was awesome! I like it. Like the screenplay.\",\"Nice one. I love it.\"]"
      ],
      "metadata": {
        "id": "akHkSFihpe9B"
      },
      "execution_count": null,
      "outputs": []
    },
    {
      "cell_type": "code",
      "source": [
        "from sklearn.feature_extraction.text import TfidfVectorizer\n",
        "import pandas as pd\n",
        "\n",
        "tfidf_vectorizer = TfidfVectorizer(ngram_range=(1,2)) # Intialise the model \n",
        "values = tfidf_vectorizer.fit_transform(documents)\n",
        "\n",
        "# Show the Model as a pandas DataFrame\n",
        "feature_names = tfidf_vectorizer.get_feature_names()\n",
        "pd.DataFrame(values.toarray(), columns = feature_names)"
      ],
      "metadata": {
        "colab": {
          "base_uri": "https://localhost:8080/",
          "height": 320
        },
        "id": "V5-5otAvpgXs",
        "outputId": "46507faa-03bf-4887-94bc-813ef103bdea"
      },
      "execution_count": null,
      "outputs": [
        {
          "output_type": "stream",
          "name": "stderr",
          "text": [
            "/usr/local/lib/python3.7/dist-packages/sklearn/utils/deprecation.py:87: FutureWarning: Function get_feature_names is deprecated; get_feature_names is deprecated in 1.0 and will be removed in 1.2. Please use get_feature_names_out instead.\n",
            "  warnings.warn(msg, category=FutureWarning)\n"
          ]
        },
        {
          "output_type": "execute_result",
          "data": {
            "text/plain": [
              "    awesome  awesome like     funny      hate  hate this        it  it funny  \\\n",
              "0  0.000000      0.000000  0.386923  0.000000   0.000000  0.246968  0.386923   \n",
              "1  0.000000      0.000000  0.000000  0.523381   0.523381  0.000000  0.000000   \n",
              "2  0.264432      0.264432  0.000000  0.000000   0.000000  0.168783  0.000000   \n",
              "3  0.000000      0.000000  0.000000  0.000000   0.000000  0.252159  0.000000   \n",
              "\n",
              "    it like      like   like it  ...       one  one love  screenplay  \\\n",
              "0  0.000000  0.305055  0.000000  ...  0.000000  0.000000    0.000000   \n",
              "1  0.000000  0.000000  0.000000  ...  0.000000  0.000000    0.000000   \n",
              "2  0.264432  0.416962  0.264432  ...  0.000000  0.000000    0.264432   \n",
              "3  0.000000  0.000000  0.000000  ...  0.395056  0.395056    0.000000   \n",
              "\n",
              "        the  the screenplay      this  this movie  this was       was  \\\n",
              "0  0.000000        0.000000  0.246968    0.305055  0.000000  0.000000   \n",
              "1  0.000000        0.000000  0.334067    0.412640  0.000000  0.000000   \n",
              "2  0.264432        0.264432  0.168783    0.000000  0.264432  0.264432   \n",
              "3  0.000000        0.000000  0.000000    0.000000  0.000000  0.000000   \n",
              "\n",
              "   was awesome  \n",
              "0     0.000000  \n",
              "1     0.000000  \n",
              "2     0.264432  \n",
              "3     0.000000  \n",
              "\n",
              "[4 rows x 28 columns]"
            ],
            "text/html": [
              "\n",
              "  <div id=\"df-8bd6bd0a-8a38-4bbd-87e2-cc0a7ed521d3\">\n",
              "    <div class=\"colab-df-container\">\n",
              "      <div>\n",
              "<style scoped>\n",
              "    .dataframe tbody tr th:only-of-type {\n",
              "        vertical-align: middle;\n",
              "    }\n",
              "\n",
              "    .dataframe tbody tr th {\n",
              "        vertical-align: top;\n",
              "    }\n",
              "\n",
              "    .dataframe thead th {\n",
              "        text-align: right;\n",
              "    }\n",
              "</style>\n",
              "<table border=\"1\" class=\"dataframe\">\n",
              "  <thead>\n",
              "    <tr style=\"text-align: right;\">\n",
              "      <th></th>\n",
              "      <th>awesome</th>\n",
              "      <th>awesome like</th>\n",
              "      <th>funny</th>\n",
              "      <th>hate</th>\n",
              "      <th>hate this</th>\n",
              "      <th>it</th>\n",
              "      <th>it funny</th>\n",
              "      <th>it like</th>\n",
              "      <th>like</th>\n",
              "      <th>like it</th>\n",
              "      <th>...</th>\n",
              "      <th>one</th>\n",
              "      <th>one love</th>\n",
              "      <th>screenplay</th>\n",
              "      <th>the</th>\n",
              "      <th>the screenplay</th>\n",
              "      <th>this</th>\n",
              "      <th>this movie</th>\n",
              "      <th>this was</th>\n",
              "      <th>was</th>\n",
              "      <th>was awesome</th>\n",
              "    </tr>\n",
              "  </thead>\n",
              "  <tbody>\n",
              "    <tr>\n",
              "      <th>0</th>\n",
              "      <td>0.000000</td>\n",
              "      <td>0.000000</td>\n",
              "      <td>0.386923</td>\n",
              "      <td>0.000000</td>\n",
              "      <td>0.000000</td>\n",
              "      <td>0.246968</td>\n",
              "      <td>0.386923</td>\n",
              "      <td>0.000000</td>\n",
              "      <td>0.305055</td>\n",
              "      <td>0.000000</td>\n",
              "      <td>...</td>\n",
              "      <td>0.000000</td>\n",
              "      <td>0.000000</td>\n",
              "      <td>0.000000</td>\n",
              "      <td>0.000000</td>\n",
              "      <td>0.000000</td>\n",
              "      <td>0.246968</td>\n",
              "      <td>0.305055</td>\n",
              "      <td>0.000000</td>\n",
              "      <td>0.000000</td>\n",
              "      <td>0.000000</td>\n",
              "    </tr>\n",
              "    <tr>\n",
              "      <th>1</th>\n",
              "      <td>0.000000</td>\n",
              "      <td>0.000000</td>\n",
              "      <td>0.000000</td>\n",
              "      <td>0.523381</td>\n",
              "      <td>0.523381</td>\n",
              "      <td>0.000000</td>\n",
              "      <td>0.000000</td>\n",
              "      <td>0.000000</td>\n",
              "      <td>0.000000</td>\n",
              "      <td>0.000000</td>\n",
              "      <td>...</td>\n",
              "      <td>0.000000</td>\n",
              "      <td>0.000000</td>\n",
              "      <td>0.000000</td>\n",
              "      <td>0.000000</td>\n",
              "      <td>0.000000</td>\n",
              "      <td>0.334067</td>\n",
              "      <td>0.412640</td>\n",
              "      <td>0.000000</td>\n",
              "      <td>0.000000</td>\n",
              "      <td>0.000000</td>\n",
              "    </tr>\n",
              "    <tr>\n",
              "      <th>2</th>\n",
              "      <td>0.264432</td>\n",
              "      <td>0.264432</td>\n",
              "      <td>0.000000</td>\n",
              "      <td>0.000000</td>\n",
              "      <td>0.000000</td>\n",
              "      <td>0.168783</td>\n",
              "      <td>0.000000</td>\n",
              "      <td>0.264432</td>\n",
              "      <td>0.416962</td>\n",
              "      <td>0.264432</td>\n",
              "      <td>...</td>\n",
              "      <td>0.000000</td>\n",
              "      <td>0.000000</td>\n",
              "      <td>0.264432</td>\n",
              "      <td>0.264432</td>\n",
              "      <td>0.264432</td>\n",
              "      <td>0.168783</td>\n",
              "      <td>0.000000</td>\n",
              "      <td>0.264432</td>\n",
              "      <td>0.264432</td>\n",
              "      <td>0.264432</td>\n",
              "    </tr>\n",
              "    <tr>\n",
              "      <th>3</th>\n",
              "      <td>0.000000</td>\n",
              "      <td>0.000000</td>\n",
              "      <td>0.000000</td>\n",
              "      <td>0.000000</td>\n",
              "      <td>0.000000</td>\n",
              "      <td>0.252159</td>\n",
              "      <td>0.000000</td>\n",
              "      <td>0.000000</td>\n",
              "      <td>0.000000</td>\n",
              "      <td>0.000000</td>\n",
              "      <td>...</td>\n",
              "      <td>0.395056</td>\n",
              "      <td>0.395056</td>\n",
              "      <td>0.000000</td>\n",
              "      <td>0.000000</td>\n",
              "      <td>0.000000</td>\n",
              "      <td>0.000000</td>\n",
              "      <td>0.000000</td>\n",
              "      <td>0.000000</td>\n",
              "      <td>0.000000</td>\n",
              "      <td>0.000000</td>\n",
              "    </tr>\n",
              "  </tbody>\n",
              "</table>\n",
              "<p>4 rows × 28 columns</p>\n",
              "</div>\n",
              "      <button class=\"colab-df-convert\" onclick=\"convertToInteractive('df-8bd6bd0a-8a38-4bbd-87e2-cc0a7ed521d3')\"\n",
              "              title=\"Convert this dataframe to an interactive table.\"\n",
              "              style=\"display:none;\">\n",
              "        \n",
              "  <svg xmlns=\"http://www.w3.org/2000/svg\" height=\"24px\"viewBox=\"0 0 24 24\"\n",
              "       width=\"24px\">\n",
              "    <path d=\"M0 0h24v24H0V0z\" fill=\"none\"/>\n",
              "    <path d=\"M18.56 5.44l.94 2.06.94-2.06 2.06-.94-2.06-.94-.94-2.06-.94 2.06-2.06.94zm-11 1L8.5 8.5l.94-2.06 2.06-.94-2.06-.94L8.5 2.5l-.94 2.06-2.06.94zm10 10l.94 2.06.94-2.06 2.06-.94-2.06-.94-.94-2.06-.94 2.06-2.06.94z\"/><path d=\"M17.41 7.96l-1.37-1.37c-.4-.4-.92-.59-1.43-.59-.52 0-1.04.2-1.43.59L10.3 9.45l-7.72 7.72c-.78.78-.78 2.05 0 2.83L4 21.41c.39.39.9.59 1.41.59.51 0 1.02-.2 1.41-.59l7.78-7.78 2.81-2.81c.8-.78.8-2.07 0-2.86zM5.41 20L4 18.59l7.72-7.72 1.47 1.35L5.41 20z\"/>\n",
              "  </svg>\n",
              "      </button>\n",
              "      \n",
              "  <style>\n",
              "    .colab-df-container {\n",
              "      display:flex;\n",
              "      flex-wrap:wrap;\n",
              "      gap: 12px;\n",
              "    }\n",
              "\n",
              "    .colab-df-convert {\n",
              "      background-color: #E8F0FE;\n",
              "      border: none;\n",
              "      border-radius: 50%;\n",
              "      cursor: pointer;\n",
              "      display: none;\n",
              "      fill: #1967D2;\n",
              "      height: 32px;\n",
              "      padding: 0 0 0 0;\n",
              "      width: 32px;\n",
              "    }\n",
              "\n",
              "    .colab-df-convert:hover {\n",
              "      background-color: #E2EBFA;\n",
              "      box-shadow: 0px 1px 2px rgba(60, 64, 67, 0.3), 0px 1px 3px 1px rgba(60, 64, 67, 0.15);\n",
              "      fill: #174EA6;\n",
              "    }\n",
              "\n",
              "    [theme=dark] .colab-df-convert {\n",
              "      background-color: #3B4455;\n",
              "      fill: #D2E3FC;\n",
              "    }\n",
              "\n",
              "    [theme=dark] .colab-df-convert:hover {\n",
              "      background-color: #434B5C;\n",
              "      box-shadow: 0px 1px 3px 1px rgba(0, 0, 0, 0.15);\n",
              "      filter: drop-shadow(0px 1px 2px rgba(0, 0, 0, 0.3));\n",
              "      fill: #FFFFFF;\n",
              "    }\n",
              "  </style>\n",
              "\n",
              "      <script>\n",
              "        const buttonEl =\n",
              "          document.querySelector('#df-8bd6bd0a-8a38-4bbd-87e2-cc0a7ed521d3 button.colab-df-convert');\n",
              "        buttonEl.style.display =\n",
              "          google.colab.kernel.accessAllowed ? 'block' : 'none';\n",
              "\n",
              "        async function convertToInteractive(key) {\n",
              "          const element = document.querySelector('#df-8bd6bd0a-8a38-4bbd-87e2-cc0a7ed521d3');\n",
              "          const dataTable =\n",
              "            await google.colab.kernel.invokeFunction('convertToInteractive',\n",
              "                                                     [key], {});\n",
              "          if (!dataTable) return;\n",
              "\n",
              "          const docLinkHtml = 'Like what you see? Visit the ' +\n",
              "            '<a target=\"_blank\" href=https://colab.research.google.com/notebooks/data_table.ipynb>data table notebook</a>'\n",
              "            + ' to learn more about interactive tables.';\n",
              "          element.innerHTML = '';\n",
              "          dataTable['output_type'] = 'display_data';\n",
              "          await google.colab.output.renderOutput(dataTable, element);\n",
              "          const docLink = document.createElement('div');\n",
              "          docLink.innerHTML = docLinkHtml;\n",
              "          element.appendChild(docLink);\n",
              "        }\n",
              "      </script>\n",
              "    </div>\n",
              "  </div>\n",
              "  "
            ]
          },
          "metadata": {},
          "execution_count": 15
        }
      ]
    }
  ]
}